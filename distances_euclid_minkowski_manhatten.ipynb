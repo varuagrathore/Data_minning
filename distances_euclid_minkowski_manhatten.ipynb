{
 "cells": [
  {
   "cell_type": "code",
   "execution_count": 1,
   "id": "24cd1ce3",
   "metadata": {},
   "outputs": [],
   "source": [
    "import pandas as pd"
   ]
  },
  {
   "cell_type": "code",
   "execution_count": 2,
   "id": "d2ae1b32",
   "metadata": {},
   "outputs": [
    {
     "name": "stdout",
     "output_type": "stream",
     "text": [
      "Minkowski distance with p=3: 4.33\n"
     ]
    }
   ],
   "source": [
    "from scipy.spatial.distance import minkowski\n",
    "\n",
    "# Define two points\n",
    "point1 = (1, 2, 3)\n",
    "point2 = (4, 5, 6)\n",
    "\n",
    "# Define the parameter p (controls the type of Minkowski distance)\n",
    "p = 3  # Example: Minkowski distance with p=3\n",
    "\n",
    "# Calculate Minkowski distance\n",
    "minkowski_distance = minkowski(point1, point2, p)\n",
    "\n",
    "print(\"Minkowski distance with p={}: {:.2f}\".format(p, minkowski_distance))\n"
   ]
  },
  {
   "cell_type": "code",
   "execution_count": 5,
   "id": "e29baa30",
   "metadata": {},
   "outputs": [
    {
     "data": {
      "text/plain": [
       "9.0"
      ]
     },
     "execution_count": 5,
     "metadata": {},
     "output_type": "execute_result"
    }
   ],
   "source": [
    "minkowski_distance = minkowski(point1, point2, p=1)\n",
    "minkowski_distance"
   ]
  },
  {
   "cell_type": "code",
   "execution_count": 6,
   "id": "de6009a2",
   "metadata": {},
   "outputs": [
    {
     "data": {
      "text/plain": [
       "9"
      ]
     },
     "execution_count": 6,
     "metadata": {},
     "output_type": "execute_result"
    }
   ],
   "source": [
    "from scipy.spatial.distance import cityblock\n",
    "cityblock(point1, point2)"
   ]
  },
  {
   "cell_type": "code",
   "execution_count": 8,
   "id": "052a22c2",
   "metadata": {},
   "outputs": [
    {
     "data": {
      "text/plain": [
       "5.196152422706632"
      ]
     },
     "execution_count": 8,
     "metadata": {},
     "output_type": "execute_result"
    }
   ],
   "source": [
    "from scipy.spatial.distance import euclidean\n",
    "euclidean(point1, point2)"
   ]
  },
  {
   "cell_type": "code",
   "execution_count": 9,
   "id": "0d9ad597",
   "metadata": {},
   "outputs": [
    {
     "data": {
      "text/plain": [
       "5.196152422706632"
      ]
     },
     "execution_count": 9,
     "metadata": {},
     "output_type": "execute_result"
    }
   ],
   "source": [
    "# you can also use minkowski function to calculate the value of manhatten euclidean by varying the value of p from 1 to 3\n",
    "#p=1 manhatten also known as cityblock\n",
    "#p=2 euclidean \n",
    "#p=3 minkowski\n",
    "euclidean = minkowski(point1, point2, p=2)  \n",
    "euclidean"
   ]
  },
  {
   "cell_type": "code",
   "execution_count": null,
   "id": "b09cb549",
   "metadata": {},
   "outputs": [],
   "source": []
  }
 ],
 "metadata": {
  "kernelspec": {
   "display_name": "Python 3 (ipykernel)",
   "language": "python",
   "name": "python3"
  },
  "language_info": {
   "codemirror_mode": {
    "name": "ipython",
    "version": 3
   },
   "file_extension": ".py",
   "mimetype": "text/x-python",
   "name": "python",
   "nbconvert_exporter": "python",
   "pygments_lexer": "ipython3",
   "version": "3.11.4"
  }
 },
 "nbformat": 4,
 "nbformat_minor": 5
}
