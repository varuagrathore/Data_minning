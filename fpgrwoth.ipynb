{
 "cells": [
  {
   "cell_type": "code",
   "execution_count": 4,
   "id": "4c6aae21",
   "metadata": {},
   "outputs": [
    {
     "name": "stdout",
     "output_type": "stream",
     "text": [
      "Frequent Itemsets:\n",
      "    support         itemsets\n",
      "0  0.238368  (mineral water)\n",
      "1  0.132116      (green tea)\n",
      "2  0.179709           (eggs)\n",
      "3  0.129583           (milk)\n",
      "4  0.170911   (french fries)\n",
      "5  0.174110      (spaghetti)\n",
      "6  0.163845      (chocolate)\n",
      "\n",
      "Association Rules:\n",
      "Empty DataFrame\n",
      "Columns: [antecedents, consequents, antecedent support, consequent support, support, confidence, lift, leverage, conviction, zhangs_metric]\n",
      "Index: []\n"
     ]
    }
   ],
   "source": [
    "from mlxtend.frequent_patterns import fpgrowth\n",
    "from mlxtend.frequent_patterns import association_rules\n",
    "import pandas as pd\n",
    "from mlxtend.preprocessing import TransactionEncoder\n",
    "\n",
    "# Step 1: Read the dataset from the text file and preprocess it\n",
    "with open(\"C:\\\\Users\\\\dell\\\\Downloads\\\\data_miinning\\\\data.txt\", 'r', encoding=\"utf-8-sig\") as file:\n",
    "    # Read the file content\n",
    "    content = file.readlines()\n",
    "\n",
    "# Preprocess the content: split each line into transactions\n",
    "transactions = [line.strip().split(',') for line in content]\n",
    "\n",
    "# Step 2: Perform one-hot encoding\n",
    "te = TransactionEncoder()\n",
    "te_ary = te.fit(transactions).transform(transactions)\n",
    "df = pd.DataFrame(te_ary, columns=te.columns_)\n",
    "\n",
    "# Step 3: Apply FP-Growth algorithm\n",
    "frequent_itemsets = fpgrowth(df, min_support=0.1, use_colnames=True)\n",
    "\n",
    "# Step 4: Generate association rules\n",
    "rules = association_rules(frequent_itemsets, metric=\"confidence\", min_threshold=0.7)\n",
    "\n",
    "# View the generated frequent itemsets and association rules\n",
    "print(\"Frequent Itemsets:\")\n",
    "print(frequent_itemsets)\n",
    "print(\"\\nAssociation Rules:\")\n",
    "print(rules)"
   ]
  },
  {
   "cell_type": "code",
   "execution_count": null,
   "id": "4fb06408",
   "metadata": {},
   "outputs": [],
   "source": []
  }
 ],
 "metadata": {
  "kernelspec": {
   "display_name": "Python 3 (ipykernel)",
   "language": "python",
   "name": "python3"
  },
  "language_info": {
   "codemirror_mode": {
    "name": "ipython",
    "version": 3
   },
   "file_extension": ".py",
   "mimetype": "text/x-python",
   "name": "python",
   "nbconvert_exporter": "python",
   "pygments_lexer": "ipython3",
   "version": "3.11.4"
  }
 },
 "nbformat": 4,
 "nbformat_minor": 5
}
