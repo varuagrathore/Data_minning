{
 "cells": [
  {
   "cell_type": "markdown",
   "id": "261b44de",
   "metadata": {},
   "source": [
    "AIM: To find mean, median, mode, and standard deviation. Draw a box-plot by using these.\n"
   ]
  },
  {
   "cell_type": "code",
   "execution_count": 37,
   "id": "4d8e0e13",
   "metadata": {},
   "outputs": [],
   "source": [
    "import pandas as pd\n",
    "import numpy as np\n",
    "from scipy import stats\n",
    "import matplotlib.pyplot as plt"
   ]
  },
  {
   "cell_type": "code",
   "execution_count": 38,
   "id": "33b875ed",
   "metadata": {},
   "outputs": [],
   "source": [
    "#don't forget to use r \n",
    "df=pd.read_csv(r\"C:\\Users\\dell\\OneDrive\\datasheet\\archive\\ifood_df.csv\")[:100] "
   ]
  },
  {
   "cell_type": "code",
   "execution_count": 39,
   "id": "33142b7c",
   "metadata": {
    "scrolled": true
   },
   "outputs": [
    {
     "data": {
      "text/html": [
       "<div>\n",
       "<style scoped>\n",
       "    .dataframe tbody tr th:only-of-type {\n",
       "        vertical-align: middle;\n",
       "    }\n",
       "\n",
       "    .dataframe tbody tr th {\n",
       "        vertical-align: top;\n",
       "    }\n",
       "\n",
       "    .dataframe thead th {\n",
       "        text-align: right;\n",
       "    }\n",
       "</style>\n",
       "<table border=\"1\" class=\"dataframe\">\n",
       "  <thead>\n",
       "    <tr style=\"text-align: right;\">\n",
       "      <th></th>\n",
       "      <th>Income</th>\n",
       "      <th>Kidhome</th>\n",
       "      <th>Teenhome</th>\n",
       "      <th>Recency</th>\n",
       "      <th>MntWines</th>\n",
       "      <th>MntFruits</th>\n",
       "      <th>MntMeatProducts</th>\n",
       "      <th>MntFishProducts</th>\n",
       "      <th>MntSweetProducts</th>\n",
       "      <th>MntGoldProds</th>\n",
       "      <th>...</th>\n",
       "      <th>marital_Together</th>\n",
       "      <th>marital_Widow</th>\n",
       "      <th>education_2n Cycle</th>\n",
       "      <th>education_Basic</th>\n",
       "      <th>education_Graduation</th>\n",
       "      <th>education_Master</th>\n",
       "      <th>education_PhD</th>\n",
       "      <th>MntTotal</th>\n",
       "      <th>MntRegularProds</th>\n",
       "      <th>AcceptedCmpOverall</th>\n",
       "    </tr>\n",
       "  </thead>\n",
       "  <tbody>\n",
       "    <tr>\n",
       "      <th>0</th>\n",
       "      <td>58138.0</td>\n",
       "      <td>0</td>\n",
       "      <td>0</td>\n",
       "      <td>58</td>\n",
       "      <td>635</td>\n",
       "      <td>88</td>\n",
       "      <td>546</td>\n",
       "      <td>172</td>\n",
       "      <td>88</td>\n",
       "      <td>88</td>\n",
       "      <td>...</td>\n",
       "      <td>0</td>\n",
       "      <td>0</td>\n",
       "      <td>0</td>\n",
       "      <td>0</td>\n",
       "      <td>1</td>\n",
       "      <td>0</td>\n",
       "      <td>0</td>\n",
       "      <td>1529</td>\n",
       "      <td>1441</td>\n",
       "      <td>0</td>\n",
       "    </tr>\n",
       "    <tr>\n",
       "      <th>1</th>\n",
       "      <td>46344.0</td>\n",
       "      <td>1</td>\n",
       "      <td>1</td>\n",
       "      <td>38</td>\n",
       "      <td>11</td>\n",
       "      <td>1</td>\n",
       "      <td>6</td>\n",
       "      <td>2</td>\n",
       "      <td>1</td>\n",
       "      <td>6</td>\n",
       "      <td>...</td>\n",
       "      <td>0</td>\n",
       "      <td>0</td>\n",
       "      <td>0</td>\n",
       "      <td>0</td>\n",
       "      <td>1</td>\n",
       "      <td>0</td>\n",
       "      <td>0</td>\n",
       "      <td>21</td>\n",
       "      <td>15</td>\n",
       "      <td>0</td>\n",
       "    </tr>\n",
       "    <tr>\n",
       "      <th>2</th>\n",
       "      <td>71613.0</td>\n",
       "      <td>0</td>\n",
       "      <td>0</td>\n",
       "      <td>26</td>\n",
       "      <td>426</td>\n",
       "      <td>49</td>\n",
       "      <td>127</td>\n",
       "      <td>111</td>\n",
       "      <td>21</td>\n",
       "      <td>42</td>\n",
       "      <td>...</td>\n",
       "      <td>1</td>\n",
       "      <td>0</td>\n",
       "      <td>0</td>\n",
       "      <td>0</td>\n",
       "      <td>1</td>\n",
       "      <td>0</td>\n",
       "      <td>0</td>\n",
       "      <td>734</td>\n",
       "      <td>692</td>\n",
       "      <td>0</td>\n",
       "    </tr>\n",
       "    <tr>\n",
       "      <th>3</th>\n",
       "      <td>26646.0</td>\n",
       "      <td>1</td>\n",
       "      <td>0</td>\n",
       "      <td>26</td>\n",
       "      <td>11</td>\n",
       "      <td>4</td>\n",
       "      <td>20</td>\n",
       "      <td>10</td>\n",
       "      <td>3</td>\n",
       "      <td>5</td>\n",
       "      <td>...</td>\n",
       "      <td>1</td>\n",
       "      <td>0</td>\n",
       "      <td>0</td>\n",
       "      <td>0</td>\n",
       "      <td>1</td>\n",
       "      <td>0</td>\n",
       "      <td>0</td>\n",
       "      <td>48</td>\n",
       "      <td>43</td>\n",
       "      <td>0</td>\n",
       "    </tr>\n",
       "    <tr>\n",
       "      <th>4</th>\n",
       "      <td>58293.0</td>\n",
       "      <td>1</td>\n",
       "      <td>0</td>\n",
       "      <td>94</td>\n",
       "      <td>173</td>\n",
       "      <td>43</td>\n",
       "      <td>118</td>\n",
       "      <td>46</td>\n",
       "      <td>27</td>\n",
       "      <td>15</td>\n",
       "      <td>...</td>\n",
       "      <td>0</td>\n",
       "      <td>0</td>\n",
       "      <td>0</td>\n",
       "      <td>0</td>\n",
       "      <td>0</td>\n",
       "      <td>0</td>\n",
       "      <td>1</td>\n",
       "      <td>407</td>\n",
       "      <td>392</td>\n",
       "      <td>0</td>\n",
       "    </tr>\n",
       "    <tr>\n",
       "      <th>...</th>\n",
       "      <td>...</td>\n",
       "      <td>...</td>\n",
       "      <td>...</td>\n",
       "      <td>...</td>\n",
       "      <td>...</td>\n",
       "      <td>...</td>\n",
       "      <td>...</td>\n",
       "      <td>...</td>\n",
       "      <td>...</td>\n",
       "      <td>...</td>\n",
       "      <td>...</td>\n",
       "      <td>...</td>\n",
       "      <td>...</td>\n",
       "      <td>...</td>\n",
       "      <td>...</td>\n",
       "      <td>...</td>\n",
       "      <td>...</td>\n",
       "      <td>...</td>\n",
       "      <td>...</td>\n",
       "      <td>...</td>\n",
       "      <td>...</td>\n",
       "    </tr>\n",
       "    <tr>\n",
       "      <th>95</th>\n",
       "      <td>87195.0</td>\n",
       "      <td>0</td>\n",
       "      <td>0</td>\n",
       "      <td>35</td>\n",
       "      <td>217</td>\n",
       "      <td>76</td>\n",
       "      <td>690</td>\n",
       "      <td>50</td>\n",
       "      <td>26</td>\n",
       "      <td>38</td>\n",
       "      <td>...</td>\n",
       "      <td>0</td>\n",
       "      <td>0</td>\n",
       "      <td>0</td>\n",
       "      <td>0</td>\n",
       "      <td>1</td>\n",
       "      <td>0</td>\n",
       "      <td>0</td>\n",
       "      <td>1059</td>\n",
       "      <td>1021</td>\n",
       "      <td>0</td>\n",
       "    </tr>\n",
       "    <tr>\n",
       "      <th>96</th>\n",
       "      <td>24594.0</td>\n",
       "      <td>1</td>\n",
       "      <td>0</td>\n",
       "      <td>94</td>\n",
       "      <td>1</td>\n",
       "      <td>3</td>\n",
       "      <td>6</td>\n",
       "      <td>10</td>\n",
       "      <td>0</td>\n",
       "      <td>9</td>\n",
       "      <td>...</td>\n",
       "      <td>1</td>\n",
       "      <td>0</td>\n",
       "      <td>0</td>\n",
       "      <td>1</td>\n",
       "      <td>0</td>\n",
       "      <td>0</td>\n",
       "      <td>0</td>\n",
       "      <td>20</td>\n",
       "      <td>11</td>\n",
       "      <td>0</td>\n",
       "    </tr>\n",
       "    <tr>\n",
       "      <th>97</th>\n",
       "      <td>49096.0</td>\n",
       "      <td>1</td>\n",
       "      <td>1</td>\n",
       "      <td>15</td>\n",
       "      <td>144</td>\n",
       "      <td>1</td>\n",
       "      <td>32</td>\n",
       "      <td>2</td>\n",
       "      <td>1</td>\n",
       "      <td>7</td>\n",
       "      <td>...</td>\n",
       "      <td>0</td>\n",
       "      <td>0</td>\n",
       "      <td>0</td>\n",
       "      <td>0</td>\n",
       "      <td>1</td>\n",
       "      <td>0</td>\n",
       "      <td>0</td>\n",
       "      <td>180</td>\n",
       "      <td>173</td>\n",
       "      <td>0</td>\n",
       "    </tr>\n",
       "    <tr>\n",
       "      <th>98</th>\n",
       "      <td>52413.0</td>\n",
       "      <td>0</td>\n",
       "      <td>2</td>\n",
       "      <td>56</td>\n",
       "      <td>295</td>\n",
       "      <td>106</td>\n",
       "      <td>271</td>\n",
       "      <td>75</td>\n",
       "      <td>98</td>\n",
       "      <td>65</td>\n",
       "      <td>...</td>\n",
       "      <td>0</td>\n",
       "      <td>0</td>\n",
       "      <td>0</td>\n",
       "      <td>0</td>\n",
       "      <td>1</td>\n",
       "      <td>0</td>\n",
       "      <td>0</td>\n",
       "      <td>845</td>\n",
       "      <td>780</td>\n",
       "      <td>0</td>\n",
       "    </tr>\n",
       "    <tr>\n",
       "      <th>99</th>\n",
       "      <td>38557.0</td>\n",
       "      <td>1</td>\n",
       "      <td>0</td>\n",
       "      <td>17</td>\n",
       "      <td>76</td>\n",
       "      <td>3</td>\n",
       "      <td>31</td>\n",
       "      <td>4</td>\n",
       "      <td>4</td>\n",
       "      <td>27</td>\n",
       "      <td>...</td>\n",
       "      <td>0</td>\n",
       "      <td>0</td>\n",
       "      <td>0</td>\n",
       "      <td>0</td>\n",
       "      <td>1</td>\n",
       "      <td>0</td>\n",
       "      <td>0</td>\n",
       "      <td>118</td>\n",
       "      <td>91</td>\n",
       "      <td>0</td>\n",
       "    </tr>\n",
       "  </tbody>\n",
       "</table>\n",
       "<p>100 rows × 39 columns</p>\n",
       "</div>"
      ],
      "text/plain": [
       "     Income  Kidhome  Teenhome  Recency  MntWines  MntFruits  MntMeatProducts  \\\n",
       "0   58138.0        0         0       58       635         88              546   \n",
       "1   46344.0        1         1       38        11          1                6   \n",
       "2   71613.0        0         0       26       426         49              127   \n",
       "3   26646.0        1         0       26        11          4               20   \n",
       "4   58293.0        1         0       94       173         43              118   \n",
       "..      ...      ...       ...      ...       ...        ...              ...   \n",
       "95  87195.0        0         0       35       217         76              690   \n",
       "96  24594.0        1         0       94         1          3                6   \n",
       "97  49096.0        1         1       15       144          1               32   \n",
       "98  52413.0        0         2       56       295        106              271   \n",
       "99  38557.0        1         0       17        76          3               31   \n",
       "\n",
       "    MntFishProducts  MntSweetProducts  MntGoldProds  ...  marital_Together  \\\n",
       "0               172                88            88  ...                 0   \n",
       "1                 2                 1             6  ...                 0   \n",
       "2               111                21            42  ...                 1   \n",
       "3                10                 3             5  ...                 1   \n",
       "4                46                27            15  ...                 0   \n",
       "..              ...               ...           ...  ...               ...   \n",
       "95               50                26            38  ...                 0   \n",
       "96               10                 0             9  ...                 1   \n",
       "97                2                 1             7  ...                 0   \n",
       "98               75                98            65  ...                 0   \n",
       "99                4                 4            27  ...                 0   \n",
       "\n",
       "    marital_Widow  education_2n Cycle  education_Basic  education_Graduation  \\\n",
       "0               0                   0                0                     1   \n",
       "1               0                   0                0                     1   \n",
       "2               0                   0                0                     1   \n",
       "3               0                   0                0                     1   \n",
       "4               0                   0                0                     0   \n",
       "..            ...                 ...              ...                   ...   \n",
       "95              0                   0                0                     1   \n",
       "96              0                   0                1                     0   \n",
       "97              0                   0                0                     1   \n",
       "98              0                   0                0                     1   \n",
       "99              0                   0                0                     1   \n",
       "\n",
       "    education_Master  education_PhD  MntTotal  MntRegularProds  \\\n",
       "0                  0              0      1529             1441   \n",
       "1                  0              0        21               15   \n",
       "2                  0              0       734              692   \n",
       "3                  0              0        48               43   \n",
       "4                  0              1       407              392   \n",
       "..               ...            ...       ...              ...   \n",
       "95                 0              0      1059             1021   \n",
       "96                 0              0        20               11   \n",
       "97                 0              0       180              173   \n",
       "98                 0              0       845              780   \n",
       "99                 0              0       118               91   \n",
       "\n",
       "    AcceptedCmpOverall  \n",
       "0                    0  \n",
       "1                    0  \n",
       "2                    0  \n",
       "3                    0  \n",
       "4                    0  \n",
       "..                 ...  \n",
       "95                   0  \n",
       "96                   0  \n",
       "97                   0  \n",
       "98                   0  \n",
       "99                   0  \n",
       "\n",
       "[100 rows x 39 columns]"
      ]
     },
     "execution_count": 39,
     "metadata": {},
     "output_type": "execute_result"
    }
   ],
   "source": [
    "df"
   ]
  },
  {
   "cell_type": "code",
   "execution_count": 40,
   "id": "630ff780",
   "metadata": {},
   "outputs": [],
   "source": [
    "import random as re  #  random fucntion to import data \n",
    "sample_data = [re.randint(0, 100) for _ in range(50)]\n",
    "sample_data = np.array(sample_data)"
   ]
  },
  {
   "cell_type": "code",
   "execution_count": 41,
   "id": "282d61f6",
   "metadata": {},
   "outputs": [
    {
     "data": {
      "text/plain": [
       "array([ 6, 84, 40, 30, 14, 21, 57, 92, 93,  9, 92, 84, 97,  6, 62, 85, 76,\n",
       "       75, 46, 72, 11, 60, 30, 29, 91, 20, 29, 50, 27, 59, 73, 86,  1, 68,\n",
       "       48, 32, 85, 84, 72, 17, 15, 26, 61, 21, 76, 91, 40, 39, 12,  1])"
      ]
     },
     "execution_count": 41,
     "metadata": {},
     "output_type": "execute_result"
    }
   ],
   "source": [
    "sample_data"
   ]
  },
  {
   "cell_type": "code",
   "execution_count": 42,
   "id": "f72c79e8",
   "metadata": {},
   "outputs": [
    {
     "data": {
      "text/plain": [
       "49.9"
      ]
     },
     "execution_count": 42,
     "metadata": {},
     "output_type": "execute_result"
    }
   ],
   "source": [
    "mean=np.mean(sample_data)\n",
    "mean"
   ]
  },
  {
   "cell_type": "code",
   "execution_count": 43,
   "id": "3f3ebbcb",
   "metadata": {},
   "outputs": [
    {
     "data": {
      "text/plain": [
       "49.0"
      ]
     },
     "execution_count": 43,
     "metadata": {},
     "output_type": "execute_result"
    }
   ],
   "source": [
    "median=np.median(sample_data)\n",
    "median"
   ]
  },
  {
   "cell_type": "code",
   "execution_count": 64,
   "id": "d2765b12",
   "metadata": {
    "scrolled": true
   },
   "outputs": [
    {
     "data": {
      "text/plain": [
       "ModeResult(mode=array([84]), count=array([3]))"
      ]
     },
     "execution_count": 64,
     "metadata": {},
     "output_type": "execute_result"
    }
   ],
   "source": [
    "mode=stats.mode(sample_data,axis=0,keepdims=True)\n",
    "\n",
    "mode"
   ]
  },
  {
   "cell_type": "markdown",
   "id": "be70ac6a",
   "metadata": {},
   "source": [
    "**efficient to work with pandas Series objects directly because pandas is optimized for handling tabular data**"
   ]
  },
  {
   "cell_type": "code",
   "execution_count": 45,
   "id": "1f7185b8",
   "metadata": {},
   "outputs": [
    {
     "data": {
      "text/plain": [
       "0    84\n",
       "dtype: int32"
      ]
     },
     "execution_count": 45,
     "metadata": {},
     "output_type": "execute_result"
    }
   ],
   "source": [
    "sample_series = pd.Series(sample_data)\n",
    "sample_series.mode()"
   ]
  },
  {
   "cell_type": "code",
   "execution_count": 46,
   "id": "0235df0d",
   "metadata": {},
   "outputs": [
    {
     "data": {
      "text/plain": [
       "30.139177161959815"
      ]
     },
     "execution_count": 46,
     "metadata": {},
     "output_type": "execute_result"
    }
   ],
   "source": [
    "np.std(sample_data)"
   ]
  },
  {
   "cell_type": "code",
   "execution_count": 50,
   "id": "e05a37f0",
   "metadata": {},
   "outputs": [
    {
     "data": {
      "image/png": "[encoded data removed]",
      "text/plain": [
       "<Figure size 640x480 with 1 Axes>"
      ]
     },
     "metadata": {},
     "output_type": "display_data"
    }
   ],
   "source": [
    "plt.boxplot(sample_data)\n",
    "plt.title('Box Plot of Sample Data')\n",
    "plt.ylabel('Values')\n",
    "\n",
    "# Show the plot\n",
    "plt.show()"
   ]
  },
  {
   "cell_type": "code",
   "execution_count": 51,
   "id": "6bec64d0",
   "metadata": {},
   "outputs": [],
   "source": [
    "import statistics"
   ]
  },
  {
   "cell_type": "code",
   "execution_count": 53,
   "id": "16f6d9fd",
   "metadata": {},
   "outputs": [
    {
     "data": {
      "text/plain": [
       "84"
      ]
     },
     "execution_count": 53,
     "metadata": {},
     "output_type": "execute_result"
    }
   ],
   "source": [
    "mode = statistics.mode(sample_data)\n",
    "mode\n"
   ]
  },
  {
   "cell_type": "code",
   "execution_count": 56,
   "id": "396dd02e",
   "metadata": {},
   "outputs": [
    {
     "data": {
      "text/plain": [
       "49.0"
      ]
     },
     "execution_count": 56,
     "metadata": {},
     "output_type": "execute_result"
    }
   ],
   "source": [
    "median=statistics.median(sample_data)\n",
    "median"
   ]
  },
  {
   "cell_type": "code",
   "execution_count": 57,
   "id": "732ca5f9",
   "metadata": {},
   "outputs": [
    {
     "data": {
      "text/plain": [
       "49"
      ]
     },
     "execution_count": 57,
     "metadata": {},
     "output_type": "execute_result"
    }
   ],
   "source": [
    "median=statistics.mean(sample_data)\n",
    "median"
   ]
  },
  {
   "cell_type": "markdown",
   "id": "131814c7",
   "metadata": {},
   "source": [
    "The statistics.stdev() function in Python's statistics module is designed to work with iterable data types like lists. The reason it accepts lists is because lists are commonly used to represent datasets in Python, and they provide a flexible and convenient way to store and manipulate data."
   ]
  },
  {
   "cell_type": "code",
   "execution_count": 62,
   "id": "c34bb452",
   "metadata": {},
   "outputs": [
    {
     "data": {
      "text/plain": [
       "30.445166500863582"
      ]
     },
     "execution_count": 62,
     "metadata": {},
     "output_type": "execute_result"
    }
   ],
   "source": [
    "# Convert the NumPy array to a list\n",
    "data_list = sample_data.tolist()\n",
    "\n",
    "# Calculate the standard deviation\n",
    "std_dev = statistics.stdev(data_list)\n",
    "std_dev"
   ]
  },
  {
   "cell_type": "code",
   "execution_count": null,
   "id": "e64ba241",
   "metadata": {},
   "outputs": [],
   "source": []
  }
 ],
 "metadata": {
  "kernelspec": {
   "display_name": "Python 3 (ipykernel)",
   "language": "python",
   "name": "python3"
  },
  "language_info": {
   "codemirror_mode": {
    "name": "ipython",
    "version": 3
   },
   "file_extension": ".py",
   "mimetype": "text/x-python",
   "name": "python",
   "nbconvert_exporter": "python",
   "pygments_lexer": "ipython3",
   "version": "3.11.4"
  }
 },
 "nbformat": 4,
 "nbformat_minor": 5
}
