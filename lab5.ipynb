{
 "cells": [
  {
   "cell_type": "markdown",
   "id": "dce9b9c5",
   "metadata": {},
   "source": [
    "**Aim: Demonstrate the following Similarity and Dissimilarity Measures using python**\n",
    "\n",
    "a) Euclidean Distance\n",
    "\n",
    "b) Manhattan Distance\n",
    "\n",
    "c) Minkowski Distance\n",
    "\n",
    "d) Cosine Similarity"
   ]
  },
  {
   "cell_type": "markdown",
   "id": "88f30a4a",
   "metadata": {},
   "source": [
    "**Euclidean Distance**"
   ]
  },
  {
   "cell_type": "code",
   "execution_count": 2,
   "id": "cca3bb69",
   "metadata": {},
   "outputs": [],
   "source": [
    "import numpy as np"
   ]
  },
  {
   "cell_type": "code",
   "execution_count": 3,
   "id": "772c05a6",
   "metadata": {},
   "outputs": [
    {
     "name": "stdout",
     "output_type": "stream",
     "text": [
      "2.23606797749979\n"
     ]
    }
   ],
   "source": [
    "\n",
    "import numpy as np\n",
    "\n",
    "\n",
    "point1 = np.array((1, 2, 3))\n",
    "point2 = np.array((1, 1, 1))\n",
    "\n",
    "\n",
    "sum_sq = np.sum(np.square(point1 - point2))\n",
    "\n",
    "\n",
    "print(np.sqrt(sum_sq))\n"
   ]
  },
  {
   "cell_type": "code",
   "execution_count": 4,
   "id": "c65bc66b",
   "metadata": {},
   "outputs": [],
   "source": [
    "from scipy.spatial import distance"
   ]
  },
  {
   "cell_type": "code",
   "execution_count": 7,
   "id": "08e3a9eb",
   "metadata": {},
   "outputs": [
    {
     "data": {
      "text/plain": [
       "((1, 2, 3), (1, 1, 1))"
      ]
     },
     "execution_count": 7,
     "metadata": {},
     "output_type": "execute_result"
    }
   ],
   "source": [
    "point_1=(1,2,3)\n",
    "point_2=(1,1,1)\n",
    "point_1,point_2"
   ]
  },
  {
   "cell_type": "code",
   "execution_count": 8,
   "id": "24a1092b",
   "metadata": {},
   "outputs": [],
   "source": [
    "euclidean_distance=distance.euclidean(point_1,point_2)"
   ]
  },
  {
   "cell_type": "code",
   "execution_count": 9,
   "id": "36aa1874",
   "metadata": {},
   "outputs": [
    {
     "data": {
      "text/plain": [
       "2.23606797749979"
      ]
     },
     "execution_count": 9,
     "metadata": {},
     "output_type": "execute_result"
    }
   ],
   "source": [
    "euclidean_distance"
   ]
  },
  {
   "cell_type": "code",
   "execution_count": 10,
   "id": "a881bb9f",
   "metadata": {},
   "outputs": [
    {
     "name": "stdout",
     "output_type": "stream",
     "text": [
      "Euclidean Distance b/w (1, 2, 3) and (1, 1, 1) is:  2.23606797749979\n"
     ]
    }
   ],
   "source": [
    "print('Euclidean Distance b/w', point_1, 'and', point_2, 'is: ', euclidean_distance)"
   ]
  },
  {
   "cell_type": "code",
   "execution_count": 12,
   "id": "1846b5ff",
   "metadata": {},
   "outputs": [],
   "source": [
    " Manhattan_Distance=distance.cityblock(point_1,point_2)"
   ]
  },
  {
   "cell_type": "code",
   "execution_count": 13,
   "id": "1cba226d",
   "metadata": {},
   "outputs": [
    {
     "name": "stdout",
     "output_type": "stream",
     "text": [
      "Euclidean Distance b/w (1, 2, 3) and (1, 1, 1) is:  3\n"
     ]
    }
   ],
   "source": [
    "print('Euclidean Distance b/w', point_1, 'and', point_2, 'is: ', Manhattan_Distance )"
   ]
  },
  {
   "cell_type": "code",
   "execution_count": 29,
   "id": "faa304e2",
   "metadata": {},
   "outputs": [
    {
     "name": "stdout",
     "output_type": "stream",
     "text": [
      "Minkowski Distance of order 1: 2.080083823051904\n"
     ]
    }
   ],
   "source": [
    "minkowski_distance_order_3 = distance.minkowski(point_1, point_2, p=3)\n",
    "print('Minkowski Distance of order 1:',minkowski_distance_order_3)"
   ]
  },
  {
   "cell_type": "code",
   "execution_count": 30,
   "id": "4bea465c",
   "metadata": {
    "scrolled": true
   },
   "outputs": [
    {
     "name": "stdout",
     "output_type": "stream",
     "text": [
      "Minkowski Distance of order 1: 3.0\n"
     ]
    }
   ],
   "source": [
    "minkowski_distance_order_1 = distance.minkowski(point_1, point_2, p=1)\n",
    "print('Minkowski Distance of order 1:',minkowski_distance_order_1)"
   ]
  },
  {
   "cell_type": "markdown",
   "id": "625993c6",
   "metadata": {},
   "source": [
    "The p parameter of the Minkowski Distance metric of SciPy represents the order of the norm. When the order(p) is 1, it will represent Manhattan Distance and when the order in the above formula is 2, it will represent Euclidean Distance."
   ]
  },
  {
   "cell_type": "code",
   "execution_count": 20,
   "id": "c4f3b695",
   "metadata": {},
   "outputs": [],
   "source": [
    "cosine_similarity = 1 - distance.cosine(point_1, point_2)"
   ]
  },
  {
   "cell_type": "code",
   "execution_count": 21,
   "id": "6cc60b02",
   "metadata": {},
   "outputs": [
    {
     "data": {
      "text/plain": [
       "0.9258200997725514"
      ]
     },
     "execution_count": 21,
     "metadata": {},
     "output_type": "execute_result"
    }
   ],
   "source": [
    "cosine_similarity"
   ]
  },
  {
   "cell_type": "code",
   "execution_count": 22,
   "id": "718292e2",
   "metadata": {},
   "outputs": [
    {
     "name": "stdout",
     "output_type": "stream",
     "text": [
      "Point 1: [0.5488135  0.71518937 0.60276338]\n",
      "Point 2: [0.54488318 0.4236548  0.64589411]\n"
     ]
    }
   ],
   "source": [
    "\n",
    "\n",
    "# Generate random data points\n",
    "np.random.seed(0) \n",
    "point1 = np.random.rand(3) \n",
    "point2 = np.random.rand(3) \n",
    "\n",
    "# Print the generated points\n",
    "print(\"Point 1:\", point1)\n",
    "print(\"Point 2:\", point2)\n",
    "\n"
   ]
  },
  {
   "cell_type": "code",
   "execution_count": 23,
   "id": "b9cebd60",
   "metadata": {},
   "outputs": [],
   "source": [
    "# a) Euclidean Distance\n",
    "euclidean_dist = np.sqrt(np.sum((point1 - point2)**2))\n",
    "\n"
   ]
  },
  {
   "cell_type": "code",
   "execution_count": 24,
   "id": "568c5e6c",
   "metadata": {},
   "outputs": [],
   "source": [
    "# b) Manhattan Distance\n",
    "manhattan_dist = np.sum(np.abs(point1 - point2))\n",
    "\n"
   ]
  },
  {
   "cell_type": "code",
   "execution_count": 25,
   "id": "14fc2d7f",
   "metadata": {},
   "outputs": [],
   "source": [
    "# c) Minkowski Distance (with p=3, equivalent to Euclidean distance)\n",
    "minkowski_dist = np.power(np.sum(np.power(np.abs(point1 - point2), 3)), 1/3)\n",
    "\n",
    "\n"
   ]
  },
  {
   "cell_type": "code",
   "execution_count": 26,
   "id": "9a70e11d",
   "metadata": {},
   "outputs": [],
   "source": [
    "# d) Cosine Similarity\n",
    "dot_product = np.dot(point1, point2)\n",
    "norm_point1 = np.linalg.norm(point1)\n",
    "norm_point2 = np.linalg.norm(point2)\n",
    "cosine_similarity = dot_product / (norm_point1 * norm_point2)\n",
    "\n"
   ]
  },
  {
   "cell_type": "code",
   "execution_count": 27,
   "id": "4be7be40",
   "metadata": {},
   "outputs": [
    {
     "name": "stdout",
     "output_type": "stream",
     "text": [
      "\n",
      "Distance Measures:\n",
      "Euclidean Distance: 0.2947339676246496\n",
      "Manhattan Distance: 0.3385956249589549\n",
      "Minkowski Distance: 0.29184913844347693\n",
      "\n",
      "Similarity Measure:\n",
      "Cosine Similarity: 0.9670752074803297\n"
     ]
    }
   ],
   "source": [
    "print(\"\\nDistance Measures:\")\n",
    "print(\"Euclidean Distance:\", euclidean_dist)\n",
    "print(\"Manhattan Distance:\", manhattan_dist)\n",
    "print(\"Minkowski Distance:\", minkowski_dist)\n",
    "print(\"\\nSimilarity Measure:\")\n",
    "print(\"Cosine Similarity:\", cosine_similarity)"
   ]
  },
  {
   "cell_type": "code",
   "execution_count": 43,
   "id": "8c32c384",
   "metadata": {},
   "outputs": [
    {
     "data": {
      "image/png": "[encoded data removed]",
      "text/plain": [
       "<Figure size 640x480 with 1 Axes>"
      ]
     },
     "metadata": {},
     "output_type": "display_data"
    }
   ],
   "source": [
    "import matplotlib.pyplot as plt\n",
    "\n",
    "plt.scatter([point_1[0], point_2[0]], [point_1[1], point_2[1]], c=['r', 'b'], marker='o', label='Points')\n",
    "plt.plot([point_1[0], point_2[0]], [point_1[1], point_2[1]], 'g--', label=f'Euclidean Distance = {euclidean_distance:.2f}')\n",
    "\n",
    "\n",
    "plt.xlabel('X')\n",
    "plt.ylabel('Y')\n",
    "plt.title('Euclidean Distance')\n",
    "\n",
    "# Add legend\n",
    "plt.legend()\n",
    "\n",
    "plt.grid(True)\n",
    "plt.show()"
   ]
  },
  {
   "cell_type": "code",
   "execution_count": null,
   "id": "d099118f",
   "metadata": {},
   "outputs": [],
   "source": []
  }
 ],
 "metadata": {
  "kernelspec": {
   "display_name": "Python 3 (ipykernel)",
   "language": "python",
   "name": "python3"
  },
  "language_info": {
   "codemirror_mode": {
    "name": "ipython",
    "version": 3
   },
   "file_extension": ".py",
   "mimetype": "text/x-python",
   "name": "python",
   "nbconvert_exporter": "python",
   "pygments_lexer": "ipython3",
   "version": "3.11.4"
  }
 },
 "nbformat": 4,
 "nbformat_minor": 5
}
