{
 "cells": [
  {
   "cell_type": "markdown",
   "id": "f8c46d00",
   "metadata": {},
   "source": [
    "Explore and implement diverse data transformation techniques\n",
    "(Z-score, Min-Max, Mean normalization, Max Absolute, Robust scaling) in Python,\n",
    "understanding their impact on data distribution for effective preprocessing."
   ]
  },
  {
   "cell_type": "code",
   "execution_count": 9,
   "id": "6bb4796f",
   "metadata": {},
   "outputs": [
    {
     "name": "stdout",
     "output_type": "stream",
     "text": [
      "Original random dataset:\n",
      "[[ 1.76405235  0.40015721  0.97873798]\n",
      " [ 2.2408932   1.86755799 -0.97727788]\n",
      " [ 0.95008842 -0.15135721 -0.10321885]\n",
      " [ 0.4105985   0.14404357  1.45427351]\n",
      " [ 0.76103773  0.12167502  0.44386323]]\n"
     ]
    }
   ],
   "source": [
    "import numpy as np\n",
    "from sklearn.preprocessing import StandardScaler, MinMaxScaler, MaxAbsScaler, RobustScaler\n",
    "\n",
    "\n",
    "np.random.seed(0)\n",
    "random_data = np.random.randn(100, 3)\n",
    "\n",
    "print(\"Original random dataset:\")\n",
    "print(random_data[:5])  \n",
    "\n"
   ]
  },
  {
   "cell_type": "code",
   "execution_count": 3,
   "id": "655d1030",
   "metadata": {},
   "outputs": [
    {
     "name": "stdout",
     "output_type": "stream",
     "text": [
      "\n",
      "Z-score normalized data:\n",
      "[[ 1.62132212  0.29928405  1.13006146]\n",
      " [ 2.08606382  1.79354171 -0.87408569]\n",
      " [ 0.82801135 -0.26232438  0.02148113]\n",
      " [ 0.30221021  0.03848293  1.61729839]\n",
      " [ 0.64375754  0.01570498  0.58202515]]\n"
     ]
    }
   ],
   "source": [
    "# Z-score normalization (Standardization)\n",
    "scaler = StandardScaler()\n",
    "zscore_normalized_data = scaler.fit_transform(random_data)\n",
    "print(\"\\nZ-score normalized data:\")\n",
    "print(zscore_normalized_data[:5]) "
   ]
  },
  {
   "cell_type": "code",
   "execution_count": 4,
   "id": "40b72221",
   "metadata": {},
   "outputs": [
    {
     "name": "stdout",
     "output_type": "stream",
     "text": [
      "\n",
      "Min-max normalized data:\n",
      "[[0.86560599 0.62498652 0.7338962 ]\n",
      " [0.9691197  0.91404355 0.32743435]\n",
      " [0.68890884 0.51634604 0.5090646 ]\n",
      " [0.57179513 0.57453578 0.83271291]\n",
      " [0.64786928 0.5701295  0.62274875]]\n"
     ]
    }
   ],
   "source": [
    "# Min-Max normalization\n",
    "scaler = MinMaxScaler()\n",
    "minmax_normalized_data = scaler.fit_transform(random_data)\n",
    "\n",
    "print(\"\\nMin-max normalized data:\")\n",
    "print(minmax_normalized_data[:5]) "
   ]
  },
  {
   "cell_type": "code",
   "execution_count": 5,
   "id": "f4c73818",
   "metadata": {},
   "outputs": [
    {
     "name": "stdout",
     "output_type": "stream",
     "text": [
      "\n",
      "Mean normalized data:\n",
      "[[ 1.62132212  0.29928405  1.13006146]\n",
      " [ 2.08606382  1.79354171 -0.87408569]\n",
      " [ 0.82801135 -0.26232438  0.02148113]\n",
      " [ 0.30221021  0.03848293  1.61729839]\n",
      " [ 0.64375754  0.01570498  0.58202515]]\n"
     ]
    }
   ],
   "source": [
    "# Mean normalization\n",
    "mean = np.mean(random_data, axis=0)\n",
    "std_dev = np.std(random_data, axis=0)\n",
    "mean_normalized_data = (random_data - mean) / std_dev\n",
    "\n",
    "print(\"\\nMean normalized data:\")\n",
    "print(mean_normalized_data[:5]) "
   ]
  },
  {
   "cell_type": "code",
   "execution_count": 6,
   "id": "f72a42cb",
   "metadata": {},
   "outputs": [
    {
     "name": "stdout",
     "output_type": "stream",
     "text": [
      "\n",
      "Max absolute scaled data:\n",
      "[[ 0.74022039  0.144326    0.38336933]\n",
      " [ 0.9403093   0.67357818 -0.38279741]\n",
      " [ 0.39867004 -0.05459049 -0.04043058]\n",
      " [ 0.17229272  0.05195266  0.56963545]\n",
      " [ 0.31934179  0.04388492  0.17386017]]\n"
     ]
    }
   ],
   "source": [
    "# Max Absolute Scaling\n",
    "scaler = MaxAbsScaler()\n",
    "maxabs_scaled_data = scaler.fit_transform(random_data)\n",
    "\n",
    "print(\"\\nMax absolute scaled data:\")\n",
    "print(maxabs_scaled_data[:5])  "
   ]
  },
  {
   "cell_type": "code",
   "execution_count": 7,
   "id": "a34a949b",
   "metadata": {},
   "outputs": [
    {
     "name": "stdout",
     "output_type": "stream",
     "text": [
      "\n",
      "Robust scaled data:\n",
      "[[ 1.42748688  0.18917235  0.81371635]\n",
      " [ 1.82637616  1.22768273 -0.60739831]\n",
      " [ 0.74658574 -0.20114599  0.02763647]\n",
      " [ 0.29528897  0.00791535  1.15920971]\n",
      " [ 0.58844012 -0.00791535  0.42511094]]\n"
     ]
    }
   ],
   "source": [
    "# Robust scaling\n",
    "scaler = RobustScaler()\n",
    "robust_scaled_data = scaler.fit_transform(random_data)\n",
    "\n",
    "print(\"\\nRobust scaled data:\")\n",
    "print(robust_scaled_data[:5])  "
   ]
  }
 ],
 "metadata": {
  "kernelspec": {
   "display_name": "Python 3 (ipykernel)",
   "language": "python",
   "name": "python3"
  },
  "language_info": {
   "codemirror_mode": {
    "name": "ipython",
    "version": 3
   },
   "file_extension": ".py",
   "mimetype": "text/x-python",
   "name": "python",
   "nbconvert_exporter": "python",
   "pygments_lexer": "ipython3",
   "version": "3.11.4"
  }
 },
 "nbformat": 4,
 "nbformat_minor": 5
}
